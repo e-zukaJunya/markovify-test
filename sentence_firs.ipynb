{
 "cells": [
  {
   "cell_type": "code",
   "execution_count": 1,
   "metadata": {},
   "outputs": [],
   "source": [
    "import MeCab\n",
    "import markovify\n",
    "import codecs\n"
   ]
  },
  {
   "cell_type": "code",
   "execution_count": 13,
   "metadata": {},
   "outputs": [
    {
     "name": "stdout",
     "output_type": "stream",
     "text": [
      "すもも も もも も もも の うち \n",
      "\n",
      "と 思い き や 月曜 は カラオケ \n",
      "\n",
      "月曜 は 疲れる \n",
      "\n",
      "それ は 何 だろ う \n",
      "\n",
      "カラオケ に 行こ う 。 \n",
      "\n",
      "リンゴ が ある . \n",
      "\n",
      "リンゴ は おいしい . \n",
      "\n",
      "月曜 は リンゴ を 食べる に 尽きる \n",
      "\n",
      "これ を やる に は あまりに 難しい 。 \n",
      "\n",
      "[('___BEGIN__', '___BEGIN__'), ('___BEGIN__', 'すもも'), ('___BEGIN__', 'と'), ('___BEGIN__', '月曜'), ('___BEGIN__', 'それ'), ('___BEGIN__', 'カラオケ'), ('___BEGIN__', 'リンゴ'), ('___BEGIN__', 'これ')]\n",
      "すもも も もも も もも も もも も もも も もも も もも の うち\n",
      "すもも も もも の うち\n",
      "すもも も もも の うち\n",
      "すもも も もも も もも も もも も もも の うち\n",
      "すもも も もも も もも も もも も もも も もも の うち\n"
     ]
    }
   ],
   "source": [
    "mecab = MeCab.Tagger('-Owakati')\n",
    "\n",
    "text_2 = '''\n",
    "すもももももももものうち\n",
    "と思いきや月曜はカラオケ\n",
    "月曜は疲れる\n",
    "それは何だろう\n",
    "カラオケに行こう。\n",
    "リンゴがある.\n",
    "リンゴはおいしい.\n",
    "月曜はリンゴを食べるに尽きる\n",
    "これをやるにはあまりに難しい。\n",
    "'''\n",
    "textList = text_2.split()\n",
    "models = []\n",
    "for _text in textList:\n",
    "    _parsed = mecab.parse(_text)\n",
    "    print(_parsed)\n",
    "    models.append(markovify.Text(_parsed))\n",
    "\n",
    "model_combo = markovify.combine(models)\n",
    "print([key for key in model_combo.chain.model.keys() if \"___BEGIN__\" in key])\n",
    "start = \"すもも\"\n",
    "for _ in range(5):\n",
    "#     sentence = str(text_model.make_short_sentence(5, 20, tries=100))\n",
    "    sentence = str(model_combo.make_sentence_with_start(beginning=start, tries=100))\n",
    "    print(sentence)\n"
   ]
  },
  {
   "cell_type": "code",
   "execution_count": null,
   "metadata": {},
   "outputs": [],
   "source": []
  }
 ],
 "metadata": {
  "kernelspec": {
   "display_name": "Python 3",
   "language": "python",
   "name": "python3"
  },
  "language_info": {
   "codemirror_mode": {
    "name": "ipython",
    "version": 3
   },
   "file_extension": ".py",
   "mimetype": "text/x-python",
   "name": "python",
   "nbconvert_exporter": "python",
   "pygments_lexer": "ipython3",
   "version": "3.7.6"
  }
 },
 "nbformat": 4,
 "nbformat_minor": 4
}
