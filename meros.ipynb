{
 "cells": [
  {
   "cell_type": "code",
   "execution_count": 1,
   "metadata": {},
   "outputs": [],
   "source": [
    "import MeCab\n",
    "import markovify\n",
    "import codecs\n"
   ]
  },
  {
   "cell_type": "code",
   "execution_count": 2,
   "metadata": {},
   "outputs": [
    {
     "name": "stdout",
     "output_type": "stream",
     "text": [
      "メロスは走りながら叫んだつもりであった。メロスに捧げた。\n",
      "メロスは、いきり立って反駁した。祝宴に列席して、うとうと、まどろんでしまった。\n",
      "メロスは、村の或る律気な一牧人を、いまに、歓声が起った。\n",
      "メロスはひょいと、からだをゆすぶって質問した。すぐ足もとで、佳き友は、村へ到着した。\n",
      "メロスは眼に涙を浮べて言った。幾度か、わしに教えてやった。竹馬の友を欺いた。\n"
     ]
    }
   ],
   "source": [
    "mecab = MeCab.Tagger('-Owakati')\n",
    "\n",
    "with codecs.open(\"メロス.txt\", \"r\", \"utf-8\", \"ignore\") as f:\n",
    "    doc = f.read()\n",
    "    \n",
    "parsed = mecab.parse(doc)\n",
    "text_model = markovify.NewlineText(parsed)\n",
    "# text_model = markovify.NewlineText(parsed, state_size=10)\n",
    "# text_model = markovify.Text(parsed)\n",
    "# text_model = markovify.Text(parsed, state_size=2)\n",
    "\n",
    "for _ in range(5):\n",
    "    sentence = str(text_model.make_short_sentence(100, 20, tries=50)).replace(' ', '')\n",
    "    print(sentence)\n",
    "    "
   ]
  },
  {
   "cell_type": "code",
   "execution_count": 3,
   "metadata": {},
   "outputs": [
    {
     "name": "stdout",
     "output_type": "stream",
     "text": [
      "['___BEGIN__', 'メロス', '必ず', '笛', 'けれども', 'きょう', '女房', '十', 'この', '結婚式', '先ず', 'セリヌンティウス', '今', 'その', '久しく', '歩い', 'ひっそり', 'もう', 'のんき', '路', '若い衆', 'しばらく', '老爺', '「', '」', 'それから', '国王', '人', 'このごろ', '御', '聞い', '生かし', '買い物', 'たちまち', '調べ', '言え', 'おまえ', '王', '人間', '信じ', '自分', 'わし', '自惚れ', '私', '命乞い', 'ただ', 'たった', '三', '逃がし', '帰っ', '妹', 'そんなに', 'あれ', 'たのむ', 'それ', '生意気', 'どうせ', 'そうして', '世の中', 'おくれ', 'ちょっと', 'いのち', 'もの', '竹馬', '暴君', '友', '初夏', 'よろめい', 'また', 'あす', '早い', '綺麗', 'さあ', '眼', '婿', 'なかなか', '夜明け', '新郎', '祝宴', 'まま', '少し', '今宵', '大切', '亭主', '花嫁', '他', '全部', '花婿', '雨', '身', 'さて', '殺さ', '身代り', '走ら', '若い', 'さらば', '幾度', 'えい', '村', 'まっすぐ', 'ゆっくり', 'ぶらぶら', '見よ', 'きのう', '彼', 'あちこち', '流れ', '時', '太陽', '濁流', '浪', '泳ぎ', 'ああ', '満身', '押し流さ', 'ありがたい', '一刻', '陽', 'ぜ', '放せ', '持ち', '山賊', '一気に', '立ち上る', '天', '真', '愛する', '路傍', '身体', '約束', '神', '動け', '愛', '中途', 'これ', '君', 'いちど', 'いま', 'ありがとう', 'よくも', '放っ', 'どう', 'だらし', '笑っ', 'そう', '地上', 'いや', '羊', '正義', 'やん', '――', 'ふと', 'そっと', 'すぐ', 'よろよろ', '水', 'ほう', '歩ける', '行こ', '肉体', '義務', 'わが身', '斜陽', '日没', '死ん', '走れ', '先刻', '悪い', '忘れ', '五臓', 'やはり', '再び', 'ずんずん', '待っ', '正直', '野原', '一団', '急げ', '風', '呼吸', '見える', 'はるか', '塔', '貴方', 'むだ', '走る', 'お', 'ほんの', 'あの', '刑場', '王様', '間に合う', 'つい', 'フィロストラトス', 'それでは', 'ひょっとしたら', '言う', 'まだ', '最後', '何一つ', '間に合っ', 'すでに', '群衆', 'あっぱれ', 'ゆるせ', 'ちか', '殴れ', '殴っ', '同じ', '生れ', '信実', 'どっと', 'ひとり', '佳き', '早く', '勇者']\n",
      "私の命なぞは、首を振って、押し寄せ渦巻き引きずる流れを！\n",
      "私は精一ぱいに鳴り響くほど音高くメロスの弟になっていたのだ。\n",
      "私は信頼されたように深く眠った。\n",
      "私たちは、ここへ帰って来たときは、ほどかれたようになってから、ちょっとご免こうむって眠りたい。\n",
      "私は王の奸佞邪智を打ち破る為に走るのは、夜でも皆が歌をうたって、雨中、矢の如く刑場に突入した。\n"
     ]
    }
   ],
   "source": [
    "mecab = MeCab.Tagger('-Owakati')\n",
    "with codecs.open(\"メロス.txt\", \"r\", \"utf-8\", \"ignore\") as f:\n",
    "    doc = f.read()\n",
    "    \n",
    "ori_sentences = doc.replace('。', '。\\n').replace('(', '（').replace(')', '）').split()\n",
    "models = []\n",
    "for sentence in ori_sentences:\n",
    "    parsed = mecab.parse(sentence)\n",
    "    models.append(markovify.Text(parsed))\n",
    "\n",
    "model_combo = markovify.combine(models)\n",
    "print([key[1] for key in model_combo.chain.model.keys() if \"___BEGIN__\" in key])\n",
    "# start = \"正義\"\n",
    "# start = \"メロス\"\n",
    "# start = \"セリヌンティウス\"\n",
    "# start = \"約束\"\n",
    "# start = \"祝宴\"\n",
    "# start = \"山賊\"\n",
    "# start = \"若い\"\n",
    "# start = \"神\"\n",
    "# start = \"村\"\n",
    "start = \"私\"\n",
    "# start = \"わし\"\n",
    "# start = \"妹\"\n",
    "# start = \"君\"\n",
    "# start = \"五臓\"\n",
    "# start = \"野原\"\n",
    "# start = \"勇者\"\n",
    "# start = \"呼吸\"\n",
    "# start = \"花嫁\"\n",
    "# start = \"友\"\n",
    "# start = \"買い物\"\n",
    "for _ in range(5):\n",
    "#     new_sentence = str(text_model.make_short_sentence(100, 20, tries=100)).replace(' ', '')\n",
    "    new_sentence = str(model_combo.make_sentence_with_start(beginning=start, tries=100)).replace(' ', '')\n",
    "    print(new_sentence)\n"
   ]
  },
  {
   "cell_type": "code",
   "execution_count": 4,
   "metadata": {},
   "outputs": [
    {
     "name": "stdout",
     "output_type": "stream",
     "text": [
      "['___BEGIN__', 'ある', '一', '広い', 'ただ', '羅生門', 'それ', '何故', 'そこで', '旧記', '洛中', 'すると', '盗人', 'とうとう', 'その', '昼間', 'ことに', '鴉', '――', '下人', '作者', 'しかし', 'ふだん', '所', '前', '今', 'だから', 'Sentimentalisme', 'に', '申', '雨', '夕闇', 'どう', '選ん', 'そうして', '選ば', '夕', '風', '丹塗', '雨風', '上', 'それから', '楼', '短い', 'これ', 'この', '見る', '勿論', 'しかも', '檜', '髪の毛', '髪', 'むしろ', 'それほど', '従って', '老婆', '「', '」', '二', '丁度', '云え', '云わ', 'けれども', '両手', '後', '今し方', '※', '細い', 'じゃが', '現在', '疫病', 'わし', 'せ', 'され', 'じゃ', '己', '梯子', 'しばらく', '外']\n",
      "わしは、頸を出来るだけ、平にしながら、永久に唖の如く黙っていた。\n",
      "わしは、次の瞬間には女も男もまじっている火の光の及ぶ範囲が、欠かさず菜料に買っていたそうな。\n",
      "わしは、どうせただの者だ。\n",
      "わしは、この門のまわりを見まわした。\n",
      "わしは、ほとんどことごとくこの男の心もちから云えば、饑死をするのさえ忘れていた死骸の中に蹲っている。\n"
     ]
    }
   ],
   "source": [
    "mecab = MeCab.Tagger('-Owakati')\n",
    "with codecs.open(\"羅生門.txt\", \"r\", \"utf-8\", \"ignore\") as f:\n",
    "    doc = f.read()\n",
    "    \n",
    "ori_sentences = doc.replace('。', '。\\n').replace('(', '（').replace(')', '）').split()\n",
    "models = []\n",
    "for sentence in ori_sentences:\n",
    "    parsed = mecab.parse(sentence)\n",
    "    models.append(markovify.Text(parsed))\n",
    "\n",
    "model_combo = markovify.combine(models)\n",
    "print([key[1] for key in model_combo.chain.model.keys() if \"___BEGIN__\" in key])\n",
    "# start = \"羅生門\"\n",
    "# start = \"洛中\"\n",
    "# start = \"下人\"\n",
    "# start = \"雨\"\n",
    "# start = \"老婆\"\n",
    "# start = \"梯子\"\n",
    "# start = \"外\"\n",
    "start = \"わし\"\n",
    "for _ in range(5):\n",
    "#     new_sentence = str(text_model.make_short_sentence(100, 20, tries=100)).replace(' ', '')\n",
    "    new_sentence = str(model_combo.make_sentence_with_start(beginning=start, tries=100)).replace(' ', '')\n",
    "    print(new_sentence)\n"
   ]
  },
  {
   "cell_type": "code",
   "execution_count": null,
   "metadata": {},
   "outputs": [],
   "source": [
    "Array.from(document.querySelectorAll('rt')).forEach(el => el.remove());\n"
   ]
  }
 ],
 "metadata": {
  "kernelspec": {
   "display_name": "Python 3",
   "language": "python",
   "name": "python3"
  },
  "language_info": {
   "codemirror_mode": {
    "name": "ipython",
    "version": 3
   },
   "file_extension": ".py",
   "mimetype": "text/x-python",
   "name": "python",
   "nbconvert_exporter": "python",
   "pygments_lexer": "ipython3",
   "version": "3.7.6"
  }
 },
 "nbformat": 4,
 "nbformat_minor": 4
}
